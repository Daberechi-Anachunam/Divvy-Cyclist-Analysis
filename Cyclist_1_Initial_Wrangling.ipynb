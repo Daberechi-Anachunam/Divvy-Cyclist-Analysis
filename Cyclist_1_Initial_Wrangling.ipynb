{
 "cells": [
  {
   "cell_type": "markdown",
   "id": "a560003e",
   "metadata": {},
   "source": [
    "# 1. INTRODUCTION\n",
    "   Cyclistic, is a fictional bike-share company in Chicago. Cyclistic offers reclining bikes, hand tricycles, and cargo bikes, making bike-share more inclusive to people with disabilities and riders who can’t use a standard two-wheeled bike.\n",
    "Cyclistic provides flexibility of its pricing plans in order to appeal to the broad consumer segments. Single-ride passes, full-day passes, and annual memberships. Customers who purchase single-ride or full-day passes are referred to as casual riders. Customers who purchase annual memberships are Cyclistic members. The finance analysts have concluded that annual members are much more profitable than casual riders so the head of marketing has decided that maximizing higher annual membership would be more profitable and better for the overall companies’ growth. \n",
    "The Business task of this project would be to find ways to make the Cyclistic subscriptions more profitable, the specific task would be to find the difference in patterns and trends between the members and casual riders in order for better targeted marketing that would drive greater membership subscriptions.\n",
    "In this project, I will be analysing the data for the bike share company found in [this link.](http://www.divvybikes.com/data)\n",
    "\n",
    "\n",
    "   "
   ]
  },
  {
   "cell_type": "markdown",
   "id": "dc47de8c",
   "metadata": {},
   "source": [
    "# 2. PRELIMINARY WRANGLING\n",
    "##    2.1 Data Gathering"
   ]
  },
  {
   "cell_type": "code",
   "execution_count": 1,
   "id": "87693f6a",
   "metadata": {},
   "outputs": [],
   "source": [
    "import pandas as pd\n",
    "import numpy as np\n"
   ]
  },
  {
   "cell_type": "code",
   "execution_count": 2,
   "id": "1a939746",
   "metadata": {},
   "outputs": [],
   "source": [
    "july_21 = pd.read_csv(\"202107-divvy-tripdata.csv\")\n",
    "august_21 = pd.read_csv(\"202108-divvy-tripdata.csv\")\n",
    "september_21 = pd.read_csv(\"202109-divvy-tripdata.csv\")\n",
    "october_21 = pd.read_csv(\"202110-divvy-tripdata.csv\")\n",
    "november_21 = pd.read_csv(\"202111-divvy-tripdata.csv\")\n",
    "december_21 = pd.read_csv(\"202112-divvy-tripdata.csv\")\n",
    "january_22 = pd.read_csv(\"202201-divvy-tripdata.csv\")\n",
    "febuary_22 = pd.read_csv(\"202202-divvy-tripdata.csv\")\n",
    "march_22 = pd.read_csv(\"202203-divvy-tripdata.csv\")\n",
    "april_22 = pd.read_csv(\"202204-divvy-tripdata.csv\")\n",
    "may_22 = pd.read_csv(\"202205-divvy-tripdata.csv\")\n",
    "june_22 = pd.read_csv(\"202206-divvy-tripdata.csv\")"
   ]
  },
  {
   "cell_type": "code",
   "execution_count": 3,
   "id": "de1af7e0",
   "metadata": {},
   "outputs": [],
   "source": [
    "merged_divvy = pd.concat([july_21, august_21, september_21, october_21, november_21, december_21, january_22, febuary_22, march_22, april_22, may_22, june_22], axis=0, ignore_index=True)"
   ]
  },
  {
   "cell_type": "markdown",
   "id": "388ea44e",
   "metadata": {},
   "source": [
    " ##  2.2  Getting a concise summary"
   ]
  },
  {
   "cell_type": "code",
   "execution_count": 4,
   "id": "b8d92f63",
   "metadata": {},
   "outputs": [
    {
     "name": "stdout",
     "output_type": "stream",
     "text": [
      "<class 'pandas.core.frame.DataFrame'>\n",
      "RangeIndex: 5900385 entries, 0 to 5900384\n",
      "Data columns (total 13 columns):\n",
      " #   Column              Dtype  \n",
      "---  ------              -----  \n",
      " 0   ride_id             object \n",
      " 1   rideable_type       object \n",
      " 2   started_at          object \n",
      " 3   ended_at            object \n",
      " 4   start_station_name  object \n",
      " 5   start_station_id    object \n",
      " 6   end_station_name    object \n",
      " 7   end_station_id      object \n",
      " 8   start_lat           float64\n",
      " 9   start_lng           float64\n",
      " 10  end_lat             float64\n",
      " 11  end_lng             float64\n",
      " 12  member_casual       object \n",
      "dtypes: float64(4), object(9)\n",
      "memory usage: 585.2+ MB\n",
      "None\n",
      "ride_id                object\n",
      "rideable_type          object\n",
      "started_at             object\n",
      "ended_at               object\n",
      "start_station_name     object\n",
      "start_station_id       object\n",
      "end_station_name       object\n",
      "end_station_id         object\n",
      "start_lat             float64\n",
      "start_lng             float64\n",
      "end_lat               float64\n",
      "end_lng               float64\n",
      "member_casual          object\n",
      "dtype: object\n",
      "            ride_id  rideable_type           started_at             ended_at  \\\n",
      "0  0A1B623926EF4E16    docked_bike  2021-07-02 14:44:36  2021-07-02 15:19:58   \n",
      "1  B2D5583A5A5E76EE   classic_bike  2021-07-07 16:57:42  2021-07-07 17:16:09   \n",
      "2  6F264597DDBF427A   classic_bike  2021-07-25 11:30:55  2021-07-25 11:48:45   \n",
      "3  379B58EAB20E8AA5   classic_bike  2021-07-08 22:08:30  2021-07-08 22:23:32   \n",
      "4  6615C1E4EB08E8FB  electric_bike  2021-07-28 16:08:06  2021-07-28 16:27:09   \n",
      "5  62DC2B32872F9BA8  electric_bike  2021-07-29 17:09:08  2021-07-29 17:15:00   \n",
      "6  4BBB6E80E6A2A16D   classic_bike  2021-07-28 16:51:47  2021-07-28 17:03:45   \n",
      "7  22CA03D32C6BB094   classic_bike  2021-07-03 12:44:50  2021-07-03 12:52:55   \n",
      "8  61F0D07D1EEE72EE   classic_bike  2021-07-02 18:18:22  2021-07-02 18:38:21   \n",
      "9  09B4551386A8410E   classic_bike  2021-07-29 21:54:05  2021-07-29 22:07:26   \n",
      "\n",
      "             start_station_name start_station_id  \\\n",
      "0  Michigan Ave & Washington St            13001   \n",
      "1    California Ave & Cortez St            17660   \n",
      "2          Wabash Ave & 16th St           SL-012   \n",
      "3    California Ave & Cortez St            17660   \n",
      "4    California Ave & Cortez St            17660   \n",
      "5    California Ave & Cortez St            17660   \n",
      "6    California Ave & Cortez St            17660   \n",
      "7          Clark St & North Ave            13128   \n",
      "8    Sheridan Rd & Montrose Ave     TA1307000107   \n",
      "9    Sheridan Rd & Montrose Ave     TA1307000107   \n",
      "\n",
      "                  end_station_name end_station_id  start_lat  start_lng  \\\n",
      "0     Halsted St & North Branch St   KA1504000117  41.883984 -87.624684   \n",
      "1             Wood St & Hubbard St          13432  41.900363 -87.696704   \n",
      "2             Rush St & Hubbard St   KA1503000044  41.860384 -87.625813   \n",
      "3          Carpenter St & Huron St          13196  41.900363 -87.696704   \n",
      "4   Elizabeth (May) St & Fulton St          13197  41.900350 -87.696682   \n",
      "5    Albany Ave & Bloomingdale Ave          15655  41.900328 -87.696735   \n",
      "6    Albany Ave & Bloomingdale Ave          15655  41.900363 -87.696704   \n",
      "7           Clark St & Chicago Ave          13303  41.911974 -87.631942   \n",
      "8     Southport Ave & Clybourn Ave   TA1309000030  41.961670 -87.654640   \n",
      "9  Lakefront Trail & Bryn Mawr Ave   KA1504000152  41.961670 -87.654640   \n",
      "\n",
      "     end_lat    end_lng member_casual  \n",
      "0  41.899368 -87.648480        casual  \n",
      "1  41.889899 -87.671473        casual  \n",
      "2  41.890173 -87.626185        member  \n",
      "3  41.894556 -87.653449        member  \n",
      "4  41.886593 -87.658387        casual  \n",
      "5  41.913887 -87.705128        casual  \n",
      "6  41.914027 -87.705126        casual  \n",
      "7  41.896750 -87.630890        casual  \n",
      "8  41.920771 -87.663712        member  \n",
      "9  41.984037 -87.652310        member  \n"
     ]
    }
   ],
   "source": [
    "# Overview of data shape and composition\n",
    "print(merged_divvy.info())\n",
    "print(merged_divvy.dtypes)\n",
    "print(merged_divvy.head(10))"
   ]
  },
  {
   "cell_type": "code",
   "execution_count": 5,
   "id": "7cdab732",
   "metadata": {},
   "outputs": [
    {
     "data": {
      "text/plain": [
       "Index(['ride_id', 'rideable_type', 'started_at', 'ended_at',\n",
       "       'start_station_name', 'start_station_id', 'end_station_name',\n",
       "       'end_station_id', 'start_lat', 'start_lng', 'end_lat', 'end_lng',\n",
       "       'member_casual'],\n",
       "      dtype='object')"
      ]
     },
     "execution_count": 5,
     "metadata": {},
     "output_type": "execute_result"
    }
   ],
   "source": [
    "# checking the column names\n",
    "merged_divvy.columns"
   ]
  },
  {
   "cell_type": "code",
   "execution_count": 6,
   "id": "5b0e00c6",
   "metadata": {},
   "outputs": [
    {
     "data": {
      "text/plain": [
       "ride_id                    0\n",
       "rideable_type              0\n",
       "started_at                 0\n",
       "ended_at                   0\n",
       "start_station_name    836018\n",
       "start_station_id      836015\n",
       "end_station_name      892103\n",
       "end_station_id        892103\n",
       "start_lat                  0\n",
       "start_lng                  0\n",
       "end_lat                 5374\n",
       "end_lng                 5374\n",
       "member_casual              0\n",
       "dtype: int64"
      ]
     },
     "execution_count": 6,
     "metadata": {},
     "output_type": "execute_result"
    }
   ],
   "source": [
    "# Checking nulls\n",
    "merged_divvy.isnull().sum()"
   ]
  },
  {
   "cell_type": "code",
   "execution_count": 7,
   "id": "24c129fe",
   "metadata": {},
   "outputs": [
    {
     "data": {
      "text/plain": [
       "0"
      ]
     },
     "execution_count": 7,
     "metadata": {},
     "output_type": "execute_result"
    }
   ],
   "source": [
    "# Checking for duplicates\n",
    "merged_divvy.duplicated().sum()"
   ]
  },
  {
   "cell_type": "code",
   "execution_count": 8,
   "id": "e4bc80b2",
   "metadata": {},
   "outputs": [
    {
     "name": "stdout",
     "output_type": "stream",
     "text": [
      "classic_bike     3189377\n",
      "electric_bike    2457637\n",
      "docked_bike       253371\n",
      "Name: rideable_type, dtype: int64\n",
      "member    3342158\n",
      "casual    2558227\n",
      "Name: member_casual, dtype: int64\n",
      "Streeter Dr & Grand Ave                          82619\n",
      "Michigan Ave & Oak St                            43633\n",
      "Wells St & Concord Ln                            43495\n",
      "DuSable Lake Shore Dr & North Blvd               40515\n",
      "Millennium Park                                  40322\n",
      "                                                 ...  \n",
      "Public Rack - Sawyer Ave & Bryn Mawr Ave - SE        1\n",
      "Lake Park Ave & 44th St                              1\n",
      "Evans Ave & 63rd St                                  1\n",
      "West Chatham Park                                    1\n",
      "Keef Ave & South Chicago Ave                         1\n",
      "Name: start_station_name, Length: 1293, dtype: int64\n"
     ]
    }
   ],
   "source": [
    "# Getting count of unique values in categorical columns to check for invalid entries\n",
    "print(merged_divvy.rideable_type.value_counts())\n",
    "print(merged_divvy.member_casual.value_counts())\n",
    "print(merged_divvy.start_station_name.value_counts())"
   ]
  },
  {
   "cell_type": "markdown",
   "id": "e864d8ab",
   "metadata": {},
   "source": [
    "# ASSESSMENT \n",
    "#### ISSUE1: \n",
    "  The columns ['start_station_name', 'start_station_id', 'end_station_name',\n",
    "       'end_station_id', 'end_lat', 'end_lng'] have null values which would be removed.\n",
    "#### ISSUE2: \n",
    "   Columns ['started_at', 'ended_at'] needs to be changed into datetime formate\n",
    "#### ISSUE3: \n",
    "    New columns for ['travel_time', 'day_of_week', 'hour', 'month','travel_distance'] need to be created\n",
    "#### ISSUE4: \n",
    "  Finally, subsetting for columns needed for analysis.\n",
    "\n"
   ]
  },
  {
   "cell_type": "markdown",
   "id": "2fbc6761",
   "metadata": {},
   "source": [
    "### 2.3  Cleaning and manipulsting the data set"
   ]
  },
  {
   "cell_type": "code",
   "execution_count": 9,
   "id": "88e9af31",
   "metadata": {},
   "outputs": [
    {
     "data": {
      "text/html": [
       "<div>\n",
       "<style scoped>\n",
       "    .dataframe tbody tr th:only-of-type {\n",
       "        vertical-align: middle;\n",
       "    }\n",
       "\n",
       "    .dataframe tbody tr th {\n",
       "        vertical-align: top;\n",
       "    }\n",
       "\n",
       "    .dataframe thead th {\n",
       "        text-align: right;\n",
       "    }\n",
       "</style>\n",
       "<table border=\"1\" class=\"dataframe\">\n",
       "  <thead>\n",
       "    <tr style=\"text-align: right;\">\n",
       "      <th></th>\n",
       "      <th>ride_id</th>\n",
       "      <th>rideable_type</th>\n",
       "      <th>started_at</th>\n",
       "      <th>ended_at</th>\n",
       "      <th>start_station_name</th>\n",
       "      <th>start_station_id</th>\n",
       "      <th>end_station_name</th>\n",
       "      <th>end_station_id</th>\n",
       "      <th>start_lat</th>\n",
       "      <th>start_lng</th>\n",
       "      <th>end_lat</th>\n",
       "      <th>end_lng</th>\n",
       "      <th>member_casual</th>\n",
       "    </tr>\n",
       "  </thead>\n",
       "  <tbody>\n",
       "    <tr>\n",
       "      <th>0</th>\n",
       "      <td>0A1B623926EF4E16</td>\n",
       "      <td>docked_bike</td>\n",
       "      <td>2021-07-02 14:44:36</td>\n",
       "      <td>2021-07-02 15:19:58</td>\n",
       "      <td>Michigan Ave &amp; Washington St</td>\n",
       "      <td>13001</td>\n",
       "      <td>Halsted St &amp; North Branch St</td>\n",
       "      <td>KA1504000117</td>\n",
       "      <td>41.883984</td>\n",
       "      <td>-87.624684</td>\n",
       "      <td>41.899368</td>\n",
       "      <td>-87.648480</td>\n",
       "      <td>casual</td>\n",
       "    </tr>\n",
       "    <tr>\n",
       "      <th>1</th>\n",
       "      <td>B2D5583A5A5E76EE</td>\n",
       "      <td>classic_bike</td>\n",
       "      <td>2021-07-07 16:57:42</td>\n",
       "      <td>2021-07-07 17:16:09</td>\n",
       "      <td>California Ave &amp; Cortez St</td>\n",
       "      <td>17660</td>\n",
       "      <td>Wood St &amp; Hubbard St</td>\n",
       "      <td>13432</td>\n",
       "      <td>41.900363</td>\n",
       "      <td>-87.696704</td>\n",
       "      <td>41.889899</td>\n",
       "      <td>-87.671473</td>\n",
       "      <td>casual</td>\n",
       "    </tr>\n",
       "    <tr>\n",
       "      <th>2</th>\n",
       "      <td>6F264597DDBF427A</td>\n",
       "      <td>classic_bike</td>\n",
       "      <td>2021-07-25 11:30:55</td>\n",
       "      <td>2021-07-25 11:48:45</td>\n",
       "      <td>Wabash Ave &amp; 16th St</td>\n",
       "      <td>SL-012</td>\n",
       "      <td>Rush St &amp; Hubbard St</td>\n",
       "      <td>KA1503000044</td>\n",
       "      <td>41.860384</td>\n",
       "      <td>-87.625813</td>\n",
       "      <td>41.890173</td>\n",
       "      <td>-87.626185</td>\n",
       "      <td>member</td>\n",
       "    </tr>\n",
       "    <tr>\n",
       "      <th>3</th>\n",
       "      <td>379B58EAB20E8AA5</td>\n",
       "      <td>classic_bike</td>\n",
       "      <td>2021-07-08 22:08:30</td>\n",
       "      <td>2021-07-08 22:23:32</td>\n",
       "      <td>California Ave &amp; Cortez St</td>\n",
       "      <td>17660</td>\n",
       "      <td>Carpenter St &amp; Huron St</td>\n",
       "      <td>13196</td>\n",
       "      <td>41.900363</td>\n",
       "      <td>-87.696704</td>\n",
       "      <td>41.894556</td>\n",
       "      <td>-87.653449</td>\n",
       "      <td>member</td>\n",
       "    </tr>\n",
       "    <tr>\n",
       "      <th>4</th>\n",
       "      <td>6615C1E4EB08E8FB</td>\n",
       "      <td>electric_bike</td>\n",
       "      <td>2021-07-28 16:08:06</td>\n",
       "      <td>2021-07-28 16:27:09</td>\n",
       "      <td>California Ave &amp; Cortez St</td>\n",
       "      <td>17660</td>\n",
       "      <td>Elizabeth (May) St &amp; Fulton St</td>\n",
       "      <td>13197</td>\n",
       "      <td>41.900350</td>\n",
       "      <td>-87.696682</td>\n",
       "      <td>41.886593</td>\n",
       "      <td>-87.658387</td>\n",
       "      <td>casual</td>\n",
       "    </tr>\n",
       "  </tbody>\n",
       "</table>\n",
       "</div>"
      ],
      "text/plain": [
       "            ride_id  rideable_type           started_at             ended_at  \\\n",
       "0  0A1B623926EF4E16    docked_bike  2021-07-02 14:44:36  2021-07-02 15:19:58   \n",
       "1  B2D5583A5A5E76EE   classic_bike  2021-07-07 16:57:42  2021-07-07 17:16:09   \n",
       "2  6F264597DDBF427A   classic_bike  2021-07-25 11:30:55  2021-07-25 11:48:45   \n",
       "3  379B58EAB20E8AA5   classic_bike  2021-07-08 22:08:30  2021-07-08 22:23:32   \n",
       "4  6615C1E4EB08E8FB  electric_bike  2021-07-28 16:08:06  2021-07-28 16:27:09   \n",
       "\n",
       "             start_station_name start_station_id  \\\n",
       "0  Michigan Ave & Washington St            13001   \n",
       "1    California Ave & Cortez St            17660   \n",
       "2          Wabash Ave & 16th St           SL-012   \n",
       "3    California Ave & Cortez St            17660   \n",
       "4    California Ave & Cortez St            17660   \n",
       "\n",
       "                 end_station_name end_station_id  start_lat  start_lng  \\\n",
       "0    Halsted St & North Branch St   KA1504000117  41.883984 -87.624684   \n",
       "1            Wood St & Hubbard St          13432  41.900363 -87.696704   \n",
       "2            Rush St & Hubbard St   KA1503000044  41.860384 -87.625813   \n",
       "3         Carpenter St & Huron St          13196  41.900363 -87.696704   \n",
       "4  Elizabeth (May) St & Fulton St          13197  41.900350 -87.696682   \n",
       "\n",
       "     end_lat    end_lng member_casual  \n",
       "0  41.899368 -87.648480        casual  \n",
       "1  41.889899 -87.671473        casual  \n",
       "2  41.890173 -87.626185        member  \n",
       "3  41.894556 -87.653449        member  \n",
       "4  41.886593 -87.658387        casual  "
      ]
     },
     "execution_count": 9,
     "metadata": {},
     "output_type": "execute_result"
    }
   ],
   "source": [
    "# creating a copy of the dataset\n",
    "divvy_copy = merged_divvy.copy()\n",
    "\n",
    "divvy_copy.head()"
   ]
  },
  {
   "cell_type": "markdown",
   "id": "ce848996",
   "metadata": {},
   "source": [
    "ISSUE1: Removing null values"
   ]
  },
  {
   "cell_type": "code",
   "execution_count": 10,
   "id": "0ce1571b",
   "metadata": {},
   "outputs": [],
   "source": [
    "# removing null values\n",
    "divvy_copy = divvy_copy[(divvy_copy['start_station_name'].notnull()) & (divvy_copy['start_station_id'].notnull()) \\\n",
    "                         & (divvy_copy['end_station_name'].notnull()) & (divvy_copy['end_station_id'].notnull())\\\n",
    "                         & (divvy_copy['end_station_id'].notnull()) & (divvy_copy['end_lat'].notnull())\\\n",
    "                         & (divvy_copy['end_lng'].notnull())]"
   ]
  },
  {
   "cell_type": "markdown",
   "id": "e58026af",
   "metadata": {},
   "source": [
    "ISSUE2: Changing the started_at and ended_at columns to date time formats"
   ]
  },
  {
   "cell_type": "code",
   "execution_count": 11,
   "id": "485e45d6",
   "metadata": {},
   "outputs": [],
   "source": [
    "divvy_copy['started_at'] = pd.to_datetime(divvy_copy['started_at'])\n",
    "divvy_copy['ended_at'] = pd.to_datetime(divvy_copy['ended_at'])"
   ]
  },
  {
   "cell_type": "markdown",
   "id": "156253ca",
   "metadata": {},
   "source": [
    "ISSUE3: Creating new columns"
   ]
  },
  {
   "cell_type": "code",
   "execution_count": 12,
   "id": "0d3a9590",
   "metadata": {},
   "outputs": [],
   "source": [
    "# creating a column for the time each trip takes\n",
    "travel_time = divvy_copy['ended_at'] - divvy_copy['started_at']\n",
    "divvy_copy['travel_time'] = travel_time.dt.total_seconds().div(60).astype(int)"
   ]
  },
  {
   "cell_type": "code",
   "execution_count": 13,
   "id": "d41cf492",
   "metadata": {},
   "outputs": [
    {
     "name": "stdout",
     "output_type": "stream",
     "text": [
      "0       Friday\n",
      "1    Wednesday\n",
      "2       Sunday\n",
      "3     Thursday\n",
      "4    Wednesday\n",
      "Name: day_of_week, dtype: object\n",
      "0    14\n",
      "1    16\n",
      "2    11\n",
      "3    22\n",
      "4    16\n",
      "Name: hour, dtype: int64\n",
      "0    7\n",
      "1    7\n",
      "2    7\n",
      "3    7\n",
      "4    7\n",
      "Name: month, dtype: int64\n"
     ]
    }
   ],
   "source": [
    "divvy_copy['day_of_week'] = divvy_copy['started_at'].dt.day_name()\n",
    "divvy_copy['hour'] = divvy_copy['started_at'].dt.hour\n",
    "divvy_copy['month'] = divvy_copy['started_at'].dt.month\n",
    "\n",
    "print(divvy_copy['day_of_week'].head())\n",
    "print(divvy_copy['hour'].head())\n",
    "print(divvy_copy['month'].head())"
   ]
  },
  {
   "cell_type": "code",
   "execution_count": 14,
   "id": "6aaad7ae",
   "metadata": {},
   "outputs": [],
   "source": [
    "# creating a column for the distance of each trip in km\n",
    "import h3\n",
    "\n",
    "\n",
    "divvy_copy['travel_distance'] = divvy_copy.apply(lambda row: h3.point_dist((row['start_lat'], row['start_lng']), (row['end_lat'], row['end_lng'])), axis=1)"
   ]
  },
  {
   "cell_type": "code",
   "execution_count": 15,
   "id": "e93b2945",
   "metadata": {},
   "outputs": [
    {
     "data": {
      "text/plain": [
       "Index(['ride_id', 'rideable_type', 'started_at', 'ended_at',\n",
       "       'start_station_name', 'start_station_id', 'end_station_name',\n",
       "       'end_station_id', 'start_lat', 'start_lng', 'end_lat', 'end_lng',\n",
       "       'member_casual', 'travel_time', 'day_of_week', 'hour', 'month',\n",
       "       'travel_distance'],\n",
       "      dtype='object')"
      ]
     },
     "execution_count": 15,
     "metadata": {},
     "output_type": "execute_result"
    }
   ],
   "source": [
    "divvy_copy.columns"
   ]
  },
  {
   "cell_type": "code",
   "execution_count": 16,
   "id": "e107fc41",
   "metadata": {},
   "outputs": [],
   "source": [
    "# Replace the numbers 1,2... with January, Febuary, ... in the month column\n",
    "divvy_copy['month'] = divvy_copy['month'].replace([1,2,3,4,5,6,7,8,9,10,11,12],\n",
    "        ['January','Febuary', 'March','April','May','June','July','August','September','October','November','December'])"
   ]
  },
  {
   "cell_type": "code",
   "execution_count": 17,
   "id": "93855d73",
   "metadata": {},
   "outputs": [
    {
     "name": "stdout",
     "output_type": "stream",
     "text": [
      "          start_lat     start_lng       end_lat       end_lng   travel_time  \\\n",
      "count  4.678871e+06  4.678871e+06  4.678871e+06  4.678871e+06  4.678871e+06   \n",
      "mean   4.190267e+01 -8.764412e+01  4.190296e+01 -8.764436e+01  1.877122e+01   \n",
      "std    4.105772e-02  2.468359e-02  4.119009e-02  2.406638e-02  1.186628e+02   \n",
      "min    4.164850e+01 -8.783325e+01  4.164850e+01 -8.783000e+01 -1.290000e+02   \n",
      "25%    4.188200e+01 -8.765694e+01  4.188213e+01 -8.765709e+01  6.000000e+00   \n",
      "50%    4.189754e+01 -8.764117e+01  4.189776e+01 -8.764117e+01  1.100000e+01   \n",
      "75%    4.192628e+01 -8.762784e+01  4.192871e+01 -8.762784e+01  2.000000e+01   \n",
      "max    4.563503e+01 -7.379648e+01  4.216812e+01 -8.752740e+01  4.910700e+04   \n",
      "\n",
      "               hour  travel_distance  \n",
      "count  4.678871e+06     4.678871e+06  \n",
      "mean   1.421040e+01     2.111984e+00  \n",
      "std    5.005214e+00     1.945089e+00  \n",
      "min    0.000000e+00     0.000000e+00  \n",
      "25%    1.100000e+01     8.974806e-01  \n",
      "50%    1.500000e+01     1.599196e+00  \n",
      "75%    1.800000e+01     2.776771e+00  \n",
      "max    2.300000e+01     1.189523e+03  \n"
     ]
    }
   ],
   "source": [
    "print(divvy_copy.describe())"
   ]
  },
  {
   "cell_type": "code",
   "execution_count": 18,
   "id": "6c8d4140",
   "metadata": {},
   "outputs": [],
   "source": [
    "divvy_copy = divvy_copy[divvy_copy['travel_time'] > 0]"
   ]
  },
  {
   "cell_type": "code",
   "execution_count": 19,
   "id": "ef7aab75",
   "metadata": {},
   "outputs": [
    {
     "name": "stdout",
     "output_type": "stream",
     "text": [
      "          start_lat     start_lng       end_lat       end_lng   travel_time  \\\n",
      "count  4.612376e+06  4.612376e+06  4.612376e+06  4.612376e+06  4.612376e+06   \n",
      "mean   4.190272e+01 -8.764409e+01  4.190300e+01 -8.764433e+01  1.904224e+01   \n",
      "std    4.100764e-02  2.461853e-02  4.114180e-02  2.399085e-02  1.194934e+02   \n",
      "min    4.164850e+01 -8.783325e+01  4.164850e+01 -8.783000e+01  1.000000e+00   \n",
      "25%    4.188203e+01 -8.765694e+01  4.188213e+01 -8.765703e+01  6.000000e+00   \n",
      "50%    4.189759e+01 -8.764116e+01  4.189776e+01 -8.764117e+01  1.100000e+01   \n",
      "75%    4.192628e+01 -8.762784e+01  4.192871e+01 -8.762784e+01  2.000000e+01   \n",
      "max    4.563503e+01 -7.379648e+01  4.216812e+01 -8.752740e+01  4.910700e+04   \n",
      "\n",
      "               hour  travel_distance  \n",
      "count  4.612376e+06     4.612376e+06  \n",
      "mean   1.420955e+01     2.142257e+00  \n",
      "std    5.006082e+00     1.942495e+00  \n",
      "min    0.000000e+00     0.000000e+00  \n",
      "25%    1.100000e+01     9.300862e-01  \n",
      "50%    1.500000e+01     1.617814e+00  \n",
      "75%    1.800000e+01     2.799129e+00  \n",
      "max    2.300000e+01     1.189523e+03  \n"
     ]
    }
   ],
   "source": [
    "print(divvy_copy.describe())"
   ]
  },
  {
   "cell_type": "markdown",
   "id": "0d5132cc",
   "metadata": {},
   "source": [
    "Issue4: Creating a subset for only rows to be used in my analysis"
   ]
  },
  {
   "cell_type": "code",
   "execution_count": 21,
   "id": "a9cfc9df",
   "metadata": {},
   "outputs": [],
   "source": [
    "#creating a subset for only rows to be used in my analysis\n",
    "divvy_sub = divvy_copy[['ride_id', 'rideable_type', 'start_station_name', 'end_station_name', 'travel_time', 'day_of_week', 'hour', 'month',\n",
    "       'travel_distance', 'member_casual']]"
   ]
  },
  {
   "cell_type": "code",
   "execution_count": 22,
   "id": "36b55082",
   "metadata": {},
   "outputs": [
    {
     "name": "stdout",
     "output_type": "stream",
     "text": [
      "<class 'pandas.core.frame.DataFrame'>\n",
      "Int64Index: 4612376 entries, 0 to 5900384\n",
      "Data columns (total 10 columns):\n",
      " #   Column              Dtype   \n",
      "---  ------              -----   \n",
      " 0   ride_id             object  \n",
      " 1   rideable_type       object  \n",
      " 2   start_station_name  object  \n",
      " 3   end_station_name    object  \n",
      " 4   travel_time         int32   \n",
      " 5   day_of_week         category\n",
      " 6   hour                category\n",
      " 7   month               category\n",
      " 8   travel_distance     float64 \n",
      " 9   member_casual       object  \n",
      "dtypes: category(3), float64(1), int32(1), object(5)\n",
      "memory usage: 277.1+ MB\n"
     ]
    }
   ],
   "source": [
    "\n",
    "divvy_sub.info()\n"
   ]
  },
  {
   "cell_type": "code",
   "execution_count": 23,
   "id": "1e17688f",
   "metadata": {},
   "outputs": [
    {
     "data": {
      "text/plain": [
       "ride_id                   0\n",
       "rideable_type             0\n",
       "start_station_name        0\n",
       "end_station_name          0\n",
       "travel_time               0\n",
       "day_of_week               0\n",
       "hour                  64601\n",
       "month                     0\n",
       "travel_distance           0\n",
       "member_casual             0\n",
       "dtype: int64"
      ]
     },
     "execution_count": 23,
     "metadata": {},
     "output_type": "execute_result"
    }
   ],
   "source": [
    "# Checking nulls\n",
    "divvy_sub.isnull().sum()"
   ]
  },
  {
   "cell_type": "code",
   "execution_count": 24,
   "id": "775f1d9d",
   "metadata": {},
   "outputs": [
    {
     "data": {
      "text/html": [
       "<div>\n",
       "<style scoped>\n",
       "    .dataframe tbody tr th:only-of-type {\n",
       "        vertical-align: middle;\n",
       "    }\n",
       "\n",
       "    .dataframe tbody tr th {\n",
       "        vertical-align: top;\n",
       "    }\n",
       "\n",
       "    .dataframe thead th {\n",
       "        text-align: right;\n",
       "    }\n",
       "</style>\n",
       "<table border=\"1\" class=\"dataframe\">\n",
       "  <thead>\n",
       "    <tr style=\"text-align: right;\">\n",
       "      <th></th>\n",
       "      <th>ride_id</th>\n",
       "      <th>rideable_type</th>\n",
       "      <th>start_station_name</th>\n",
       "      <th>end_station_name</th>\n",
       "      <th>travel_time</th>\n",
       "      <th>day_of_week</th>\n",
       "      <th>hour</th>\n",
       "      <th>month</th>\n",
       "      <th>travel_distance</th>\n",
       "      <th>member_casual</th>\n",
       "    </tr>\n",
       "  </thead>\n",
       "  <tbody>\n",
       "    <tr>\n",
       "      <th>0</th>\n",
       "      <td>0A1B623926EF4E16</td>\n",
       "      <td>docked_bike</td>\n",
       "      <td>Michigan Ave &amp; Washington St</td>\n",
       "      <td>Halsted St &amp; North Branch St</td>\n",
       "      <td>35</td>\n",
       "      <td>Friday</td>\n",
       "      <td>14</td>\n",
       "      <td>July</td>\n",
       "      <td>2.608825</td>\n",
       "      <td>casual</td>\n",
       "    </tr>\n",
       "    <tr>\n",
       "      <th>1</th>\n",
       "      <td>B2D5583A5A5E76EE</td>\n",
       "      <td>classic_bike</td>\n",
       "      <td>California Ave &amp; Cortez St</td>\n",
       "      <td>Wood St &amp; Hubbard St</td>\n",
       "      <td>18</td>\n",
       "      <td>Wednesday</td>\n",
       "      <td>16</td>\n",
       "      <td>July</td>\n",
       "      <td>2.390634</td>\n",
       "      <td>casual</td>\n",
       "    </tr>\n",
       "    <tr>\n",
       "      <th>2</th>\n",
       "      <td>6F264597DDBF427A</td>\n",
       "      <td>classic_bike</td>\n",
       "      <td>Wabash Ave &amp; 16th St</td>\n",
       "      <td>Rush St &amp; Hubbard St</td>\n",
       "      <td>17</td>\n",
       "      <td>Sunday</td>\n",
       "      <td>11</td>\n",
       "      <td>July</td>\n",
       "      <td>3.312533</td>\n",
       "      <td>member</td>\n",
       "    </tr>\n",
       "    <tr>\n",
       "      <th>3</th>\n",
       "      <td>379B58EAB20E8AA5</td>\n",
       "      <td>classic_bike</td>\n",
       "      <td>California Ave &amp; Cortez St</td>\n",
       "      <td>Carpenter St &amp; Huron St</td>\n",
       "      <td>15</td>\n",
       "      <td>Thursday</td>\n",
       "      <td>22</td>\n",
       "      <td>July</td>\n",
       "      <td>3.637853</td>\n",
       "      <td>member</td>\n",
       "    </tr>\n",
       "    <tr>\n",
       "      <th>4</th>\n",
       "      <td>6615C1E4EB08E8FB</td>\n",
       "      <td>electric_bike</td>\n",
       "      <td>California Ave &amp; Cortez St</td>\n",
       "      <td>Elizabeth (May) St &amp; Fulton St</td>\n",
       "      <td>19</td>\n",
       "      <td>Wednesday</td>\n",
       "      <td>16</td>\n",
       "      <td>July</td>\n",
       "      <td>3.519575</td>\n",
       "      <td>casual</td>\n",
       "    </tr>\n",
       "    <tr>\n",
       "      <th>5</th>\n",
       "      <td>62DC2B32872F9BA8</td>\n",
       "      <td>electric_bike</td>\n",
       "      <td>California Ave &amp; Cortez St</td>\n",
       "      <td>Albany Ave &amp; Bloomingdale Ave</td>\n",
       "      <td>5</td>\n",
       "      <td>Thursday</td>\n",
       "      <td>17</td>\n",
       "      <td>July</td>\n",
       "      <td>1.659964</td>\n",
       "      <td>casual</td>\n",
       "    </tr>\n",
       "    <tr>\n",
       "      <th>6</th>\n",
       "      <td>4BBB6E80E6A2A16D</td>\n",
       "      <td>classic_bike</td>\n",
       "      <td>California Ave &amp; Cortez St</td>\n",
       "      <td>Albany Ave &amp; Bloomingdale Ave</td>\n",
       "      <td>11</td>\n",
       "      <td>Wednesday</td>\n",
       "      <td>16</td>\n",
       "      <td>July</td>\n",
       "      <td>1.671583</td>\n",
       "      <td>casual</td>\n",
       "    </tr>\n",
       "    <tr>\n",
       "      <th>7</th>\n",
       "      <td>22CA03D32C6BB094</td>\n",
       "      <td>classic_bike</td>\n",
       "      <td>Clark St &amp; North Ave</td>\n",
       "      <td>Clark St &amp; Chicago Ave</td>\n",
       "      <td>8</td>\n",
       "      <td>Saturday</td>\n",
       "      <td>12</td>\n",
       "      <td>July</td>\n",
       "      <td>1.695071</td>\n",
       "      <td>casual</td>\n",
       "    </tr>\n",
       "    <tr>\n",
       "      <th>8</th>\n",
       "      <td>61F0D07D1EEE72EE</td>\n",
       "      <td>classic_bike</td>\n",
       "      <td>Sheridan Rd &amp; Montrose Ave</td>\n",
       "      <td>Southport Ave &amp; Clybourn Ave</td>\n",
       "      <td>19</td>\n",
       "      <td>Friday</td>\n",
       "      <td>18</td>\n",
       "      <td>July</td>\n",
       "      <td>4.609252</td>\n",
       "      <td>member</td>\n",
       "    </tr>\n",
       "    <tr>\n",
       "      <th>9</th>\n",
       "      <td>09B4551386A8410E</td>\n",
       "      <td>classic_bike</td>\n",
       "      <td>Sheridan Rd &amp; Montrose Ave</td>\n",
       "      <td>Lakefront Trail &amp; Bryn Mawr Ave</td>\n",
       "      <td>13</td>\n",
       "      <td>Thursday</td>\n",
       "      <td>21</td>\n",
       "      <td>July</td>\n",
       "      <td>2.494511</td>\n",
       "      <td>member</td>\n",
       "    </tr>\n",
       "  </tbody>\n",
       "</table>\n",
       "</div>"
      ],
      "text/plain": [
       "            ride_id  rideable_type            start_station_name  \\\n",
       "0  0A1B623926EF4E16    docked_bike  Michigan Ave & Washington St   \n",
       "1  B2D5583A5A5E76EE   classic_bike    California Ave & Cortez St   \n",
       "2  6F264597DDBF427A   classic_bike          Wabash Ave & 16th St   \n",
       "3  379B58EAB20E8AA5   classic_bike    California Ave & Cortez St   \n",
       "4  6615C1E4EB08E8FB  electric_bike    California Ave & Cortez St   \n",
       "5  62DC2B32872F9BA8  electric_bike    California Ave & Cortez St   \n",
       "6  4BBB6E80E6A2A16D   classic_bike    California Ave & Cortez St   \n",
       "7  22CA03D32C6BB094   classic_bike          Clark St & North Ave   \n",
       "8  61F0D07D1EEE72EE   classic_bike    Sheridan Rd & Montrose Ave   \n",
       "9  09B4551386A8410E   classic_bike    Sheridan Rd & Montrose Ave   \n",
       "\n",
       "                  end_station_name  travel_time day_of_week hour month  \\\n",
       "0     Halsted St & North Branch St           35      Friday   14  July   \n",
       "1             Wood St & Hubbard St           18   Wednesday   16  July   \n",
       "2             Rush St & Hubbard St           17      Sunday   11  July   \n",
       "3          Carpenter St & Huron St           15    Thursday   22  July   \n",
       "4   Elizabeth (May) St & Fulton St           19   Wednesday   16  July   \n",
       "5    Albany Ave & Bloomingdale Ave            5    Thursday   17  July   \n",
       "6    Albany Ave & Bloomingdale Ave           11   Wednesday   16  July   \n",
       "7           Clark St & Chicago Ave            8    Saturday   12  July   \n",
       "8     Southport Ave & Clybourn Ave           19      Friday   18  July   \n",
       "9  Lakefront Trail & Bryn Mawr Ave           13    Thursday   21  July   \n",
       "\n",
       "   travel_distance member_casual  \n",
       "0         2.608825        casual  \n",
       "1         2.390634        casual  \n",
       "2         3.312533        member  \n",
       "3         3.637853        member  \n",
       "4         3.519575        casual  \n",
       "5         1.659964        casual  \n",
       "6         1.671583        casual  \n",
       "7         1.695071        casual  \n",
       "8         4.609252        member  \n",
       "9         2.494511        member  "
      ]
     },
     "execution_count": 24,
     "metadata": {},
     "output_type": "execute_result"
    }
   ],
   "source": [
    "divvy_sub.head(10)"
   ]
  },
  {
   "cell_type": "code",
   "execution_count": 25,
   "id": "097bdbbc",
   "metadata": {},
   "outputs": [
    {
     "name": "stdout",
     "output_type": "stream",
     "text": [
      "Saturday     777918\n",
      "Sunday       684763\n",
      "Thursday     659884\n",
      "Friday       642308\n",
      "Wednesday    624140\n",
      "Tuesday      619333\n",
      "Monday       604030\n",
      "Name: day_of_week, dtype: int64\n",
      "July         683203\n",
      "August       666084\n",
      "September    613365\n",
      "June         609809\n",
      "May          494100\n",
      "October      471464\n",
      "April        268539\n",
      "November     252189\n",
      "March        212906\n",
      "December     174005\n",
      "Febuary       87656\n",
      "January       79056\n",
      "Name: month, dtype: int64\n",
      "17    473687\n",
      "18    401283\n",
      "16    392141\n",
      "15    317896\n",
      "19    291910\n",
      "14    279621\n",
      "13    277391\n",
      "12    274965\n",
      "11    238165\n",
      "8     220354\n",
      "20    203650\n",
      "10    189911\n",
      "7     182404\n",
      "9     174956\n",
      "21    163479\n",
      "22    137084\n",
      "23     97503\n",
      "6      96911\n",
      "1      43645\n",
      "5      36816\n",
      "2      26717\n",
      "3      14758\n",
      "4      12528\n",
      "24         0\n",
      "Name: hour, dtype: int64\n"
     ]
    }
   ],
   "source": [
    "#test\n",
    "print(divvy_sub.day_of_week.value_counts())\n",
    "print(divvy_sub.month.value_counts())\n",
    "print(divvy_sub.hour.value_counts())"
   ]
  },
  {
   "cell_type": "code",
   "execution_count": 26,
   "id": "1f0cf63e",
   "metadata": {},
   "outputs": [],
   "source": [
    "divvy_sub.to_csv(\"divvy_clean2.csv\")"
   ]
  }
 ],
 "metadata": {
  "kernelspec": {
   "display_name": "Python 3 (ipykernel)",
   "language": "python",
   "name": "python3"
  },
  "language_info": {
   "codemirror_mode": {
    "name": "ipython",
    "version": 3
   },
   "file_extension": ".py",
   "mimetype": "text/x-python",
   "name": "python",
   "nbconvert_exporter": "python",
   "pygments_lexer": "ipython3",
   "version": "3.9.7"
  }
 },
 "nbformat": 4,
 "nbformat_minor": 5
}
